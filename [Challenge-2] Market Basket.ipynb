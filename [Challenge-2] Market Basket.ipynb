{
 "cells": [
  {
   "cell_type": "markdown",
   "metadata": {},
   "source": [
    "## Source\n",
    "\n",
    "kaggle: https://www.kaggle.com/c/market-basket-id-ndsc-2020"
   ]
  },
  {
   "cell_type": "code",
   "execution_count": null,
   "metadata": {},
   "outputs": [],
   "source": [
    "import pandas as pd\n",
    "import time"
   ]
  },
  {
   "cell_type": "code",
   "execution_count": null,
   "metadata": {},
   "outputs": [],
   "source": [
    "begin = time.time()"
   ]
  },
  {
   "cell_type": "code",
   "execution_count": null,
   "metadata": {
    "scrolled": true
   },
   "outputs": [],
   "source": [
    "rule = pd.read_csv('dataset/rules.csv')\n",
    "rule.info()"
   ]
  },
  {
   "cell_type": "code",
   "execution_count": null,
   "metadata": {},
   "outputs": [],
   "source": [
    "order = pd.read_csv('dataset/association_order.csv')\n",
    "order.info()"
   ]
  },
  {
   "cell_type": "code",
   "execution_count": null,
   "metadata": {},
   "outputs": [],
   "source": [
    "order['itemid'] = order['itemid'].astype('str')\n",
    "order.head()"
   ]
  },
  {
   "cell_type": "code",
   "execution_count": null,
   "metadata": {},
   "outputs": [],
   "source": [
    "# List semua orderid untuk masing itemid (simpan ke dictionary)\n",
    "item_dict = {}\n",
    "for row in order.itertuples(index=False, name=None):\n",
    "    \n",
    "    if row[1] in item_dict:\n",
    "        item_dict[row[1]].append(row[0])\n",
    "    else:\n",
    "        item_dict[row[1]] = [row[0]]\n",
    "print(len(item_dict))"
   ]
  },
  {
   "cell_type": "code",
   "execution_count": null,
   "metadata": {},
   "outputs": [],
   "source": [
    "def num_order(item):\n",
    "    num_item = 0\n",
    "    # Jika terdapat lebih dari satu itemid\n",
    "    if '&' in item:\n",
    "        items = item.split('&')\n",
    "        cooccur_item = set(item_dict[items[0]])\n",
    "        # Tentukan intersection dari setiap itemid\n",
    "        for item_id in items[1:]:\n",
    "            cooccur_item = cooccur_item.intersection(set(item_dict[item_id]))\n",
    "        num_item = len(cooccur_item)\n",
    "    else:\n",
    "        num_item = len(item_dict[item])\n",
    "    \n",
    "    return num_item"
   ]
  },
  {
   "cell_type": "code",
   "execution_count": null,
   "metadata": {},
   "outputs": [],
   "source": [
    "confidence = []\n",
    "for row in rule['rule'].values:\n",
    "    scr, dest = row.split('>')\n",
    "    # Hitung jumlah kemunculan order untuk setiap itemid\n",
    "    num_scr = num_order(scr+'&'+dest)\n",
    "    num_dest = num_order(scr)\n",
    "    # Hitung confidence rate\n",
    "    if num_dest==0:\n",
    "        confidence.append(0)\n",
    "    else:\n",
    "        confidence_rate = int(num_scr/num_dest*1000)\n",
    "        confidence.append(confidence_rate)\n",
    "\n",
    "print(len(confidence))"
   ]
  },
  {
   "cell_type": "code",
   "execution_count": null,
   "metadata": {
    "scrolled": true
   },
   "outputs": [],
   "source": [
    "rule['confidence'] = confidence\n",
    "rule.head()"
   ]
  },
  {
   "cell_type": "code",
   "execution_count": null,
   "metadata": {},
   "outputs": [],
   "source": [
    "rule.to_csv('submit.csv', index=False)\n",
    "print('Okay dolanan!!')"
   ]
  },
  {
   "cell_type": "code",
   "execution_count": null,
   "metadata": {},
   "outputs": [],
   "source": [
    "time.time() - begin"
   ]
  },
  {
   "cell_type": "code",
   "execution_count": null,
   "metadata": {},
   "outputs": [],
   "source": []
  }
 ],
 "metadata": {
  "kernelspec": {
   "display_name": "Python 3",
   "language": "python",
   "name": "python3"
  },
  "language_info": {
   "codemirror_mode": {
    "name": "ipython",
    "version": 3
   },
   "file_extension": ".py",
   "mimetype": "text/x-python",
   "name": "python",
   "nbconvert_exporter": "python",
   "pygments_lexer": "ipython3",
   "version": "3.7.6"
  },
  "toc": {
   "base_numbering": 1,
   "nav_menu": {},
   "number_sections": true,
   "sideBar": true,
   "skip_h1_title": false,
   "title_cell": "Table of Contents",
   "title_sidebar": "Contents",
   "toc_cell": false,
   "toc_position": {},
   "toc_section_display": true,
   "toc_window_display": false
  }
 },
 "nbformat": 4,
 "nbformat_minor": 4
}
