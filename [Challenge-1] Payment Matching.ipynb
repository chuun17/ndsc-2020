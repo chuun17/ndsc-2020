{
 "cells": [
  {
   "cell_type": "markdown",
   "metadata": {},
   "source": [
    "**Source**\n",
    "kaggle: https://www.kaggle.com/c/payment-id-ndsc-2020"
   ]
  },
  {
   "cell_type": "markdown",
   "metadata": {},
   "source": [
    "## Ratio (0.99982)"
   ]
  },
  {
   "cell_type": "code",
   "execution_count": null,
   "metadata": {},
   "outputs": [],
   "source": [
    "import re\n",
    "import time\n",
    "import pandas as pd\n",
    "\n",
    "from fuzzywuzzy import fuzz"
   ]
  },
  {
   "cell_type": "code",
   "execution_count": null,
   "metadata": {
    "scrolled": false
   },
   "outputs": [],
   "source": [
    "checkout = pd.read_csv('dataset/checkout.csv')\n",
    "checkout.info()"
   ]
  },
  {
   "cell_type": "code",
   "execution_count": null,
   "metadata": {
    "scrolled": true
   },
   "outputs": [],
   "source": [
    "statement = pd.read_csv('dataset/bank_statement.csv')\n",
    "statement.info()"
   ]
  },
  {
   "cell_type": "code",
   "execution_count": null,
   "metadata": {},
   "outputs": [],
   "source": [
    "# hapus karakter yang tidak penting\n",
    "allowed_char = re.compile(r'([^a-z])')\n",
    "longer_space = re.compile(r'\\s{2,}')\n",
    "\n",
    "def preprocess_name(name):\n",
    "    name = allowed_char.sub(' ', name)\n",
    "    name = longer_space.sub(' ', name)\n",
    "    return name"
   ]
  },
  {
   "cell_type": "code",
   "execution_count": null,
   "metadata": {},
   "outputs": [],
   "source": [
    "# ganti nama kolom \n",
    "checkout.rename(columns={'ckt_amount': 'amount', 'ckt_id': 'id'}, inplace=True)\n",
    "statement.rename(columns={'stmt_amount': 'amount', 'stmt_id': 'id'}, inplace=True)\n",
    "\n",
    "# preprocess name \n",
    "checkout['buyer_name'] = checkout['buyer_name'].str.lower().map(preprocess_name)\n",
    "statement['desc'] = statement['desc'].str.lower().map(preprocess_name)\n",
    "\n",
    "statement.head()"
   ]
  },
  {
   "cell_type": "code",
   "execution_count": null,
   "metadata": {},
   "outputs": [],
   "source": [
    "checkout_df = checkout.copy()\n",
    "statement_df = statement.copy()\n",
    "statement_df.shape"
   ]
  },
  {
   "cell_type": "code",
   "execution_count": null,
   "metadata": {
    "scrolled": true
   },
   "outputs": [],
   "source": [
    "checkout_df = checkout_df.reset_index(drop=True).set_index('id')\n",
    "\n",
    "statement_df = statement_df.reset_index(drop=True).set_index('id')\n",
    "statement_df.head()"
   ]
  },
  {
   "cell_type": "code",
   "execution_count": null,
   "metadata": {
    "scrolled": true
   },
   "outputs": [],
   "source": [
    "start_time = time.time()\n",
    "\n",
    "# nilai unik dari amount\n",
    "amount_ls = sorted(list(set(statement_df.amount)))\n",
    "match_dict = {}\n",
    "for amt in amount_ls:\n",
    "\n",
    "    # ambil data yang memenuhi nilai amount tertentu dan ubah ke format dictionary\n",
    "    cout_dict = dict(checkout_df[checkout_df['amount']==amt]['buyer_name'])\n",
    "    stmt_dict = dict(statement_df[statement_df['amount']==amt]['desc'])\n",
    "\n",
    "    # Kondisi-1 = nama pembeli ada di deskripsi\n",
    "    for cout_id in cout_dict.copy():\n",
    "\n",
    "        for stmt_id in stmt_dict.copy():\n",
    "            # jika match maka simpan pasangan id nya \n",
    "            # dan hapus datanya dari dictionary\n",
    "            if cout_dict[cout_id] in stmt_dict[stmt_id]:\n",
    "                match_dict[cout_id] = stmt_id\n",
    "                del cout_dict[cout_id]\n",
    "                del stmt_dict[stmt_id]\n",
    "                break\n",
    "\n",
    "    # Kondisi-2 = nama pembeli dengan tidak memperhatikan urutan katanya\n",
    "    for cout_id in cout_dict.copy():\n",
    "\n",
    "        for stmt_id in stmt_dict.copy():\n",
    "            # cek jika semua kata pada nama pembeli ada di deskripsi\n",
    "            cout_word_ls = cout_dict[cout_id].split()\n",
    "            if all(word in stmt_dict[stmt_id] for word in cout_word_ls):\n",
    "                match_dict[cout_id] = stmt_id\n",
    "                del cout_dict[cout_id]\n",
    "                del stmt_dict[stmt_id]\n",
    "                break\n",
    "\n",
    "    # Kondisi-3 = matching algorithm menggunakan fuzzy string searching {ratio, partial_ratio, token_set_ratio}\n",
    "    similarity_ls = []\n",
    "    for cout_id, cout_name in cout_dict.items():\n",
    "\n",
    "        for stmt_id, stmt_desc in stmt_dict.items():\n",
    "            similarity_ls.append([cout_id, stmt_id, fuzz.ratio(cout_name, stmt_desc)])\n",
    "\n",
    "    sorted_sim = sorted(similarity_ls, key=lambda x: x[-1], reverse=True)\n",
    "\n",
    "    # Simpan pasangan id dengan nilai similarity tertinggi\n",
    "    # dan hapus pasangan id lainnya yang mengandung id tersebut\n",
    "    while(sorted_sim.copy()):\n",
    "        cout_id = sorted_sim[0][0]\n",
    "        stmt_id = sorted_sim[0][1]\n",
    "        match_dict[cout_id] = stmt_id\n",
    "\n",
    "        for data in sorted_sim.copy():\n",
    "            if cout_id==data[0]:\n",
    "                del sorted_sim[sorted_sim.index(data)]\n",
    "\n",
    "        for data in sorted_sim.copy():\n",
    "            if stmt_id==data[1]:\n",
    "                del sorted_sim[sorted_sim.index(data)]\n",
    "                \n",
    "print(len(match_dict))\n",
    "print(f'Time elapsed = {time.time() - start_time} seconds')"
   ]
  },
  {
   "cell_type": "code",
   "execution_count": null,
   "metadata": {},
   "outputs": [],
   "source": [
    "checkout_id = list(match_dict.keys())\n",
    "statement_id = list(match_dict.values())\n",
    "\n",
    "submit = pd.DataFrame({'stmt_id': statement_id, 'ckt_id': checkout_id})\n",
    "submit = submit.sort_values(by='stmt_id')\n",
    "submit"
   ]
  },
  {
   "cell_type": "code",
   "execution_count": null,
   "metadata": {},
   "outputs": [],
   "source": [
    "print(len(set(checkout_id)))\n",
    "print(len(set(statement_id)))"
   ]
  },
  {
   "cell_type": "code",
   "execution_count": null,
   "metadata": {},
   "outputs": [],
   "source": [
    "submit.to_csv('round1_ratio.csv', index=False)\n",
    "print('masukk broo')"
   ]
  },
  {
   "cell_type": "markdown",
   "metadata": {},
   "source": [
    "## Partial Ratio (0.99988)"
   ]
  },
  {
   "cell_type": "code",
   "execution_count": null,
   "metadata": {},
   "outputs": [],
   "source": [
    "checkout_df = checkout.copy()\n",
    "statement_df = statement.copy()\n",
    "statement_df.shape"
   ]
  },
  {
   "cell_type": "code",
   "execution_count": null,
   "metadata": {
    "scrolled": true
   },
   "outputs": [],
   "source": [
    "checkout_df = checkout_df.reset_index(drop=True).set_index('id')\n",
    "\n",
    "statement_df = statement_df.reset_index(drop=True).set_index('id')\n",
    "statement_df.head()"
   ]
  },
  {
   "cell_type": "code",
   "execution_count": null,
   "metadata": {
    "scrolled": true
   },
   "outputs": [],
   "source": [
    "start_time = time.time()\n",
    "\n",
    "# nilai unik dari amount\n",
    "amount_ls = sorted(list(set(statement_df.amount)))\n",
    "match_dict = {}\n",
    "for amt in amount_ls:\n",
    "\n",
    "    # ambil data yang memenuhi nilai amount tertentu dan ubah ke format dictionary\n",
    "    cout_dict = dict(checkout_df[checkout_df['amount']==amt]['buyer_name'])\n",
    "    stmt_dict = dict(statement_df[statement_df['amount']==amt]['desc'])\n",
    "\n",
    "    # Kondisi-1 = nama pembeli ada di deskripsi\n",
    "    for cout_id in cout_dict.copy():\n",
    "\n",
    "        for stmt_id in stmt_dict.copy():\n",
    "            # jika match maka simpan pasangan id nya \n",
    "            # dan hapus datanya dari dictionary\n",
    "            if cout_dict[cout_id] in stmt_dict[stmt_id]:\n",
    "                match_dict[cout_id] = stmt_id\n",
    "                del cout_dict[cout_id]\n",
    "                del stmt_dict[stmt_id]\n",
    "                break\n",
    "\n",
    "    # Kondisi-2 = nama pembeli dengan tidak memperhatikan urutan katanya\n",
    "    for cout_id in cout_dict.copy():\n",
    "\n",
    "        for stmt_id in stmt_dict.copy():\n",
    "            # cek jika semua kata pada nama pembeli ada di deskripsi\n",
    "            cout_word_ls = cout_dict[cout_id].split()\n",
    "            if all(word in stmt_dict[stmt_id] for word in cout_word_ls):\n",
    "                match_dict[cout_id] = stmt_id\n",
    "                del cout_dict[cout_id]\n",
    "                del stmt_dict[stmt_id]\n",
    "                break\n",
    "\n",
    "    # Kondisi-3 = matching algorithm menggunakan fuzzy string searching {ratio, partial_ratio, token_set_ratio}\n",
    "    similarity_ls = []\n",
    "    for cout_id, cout_name in cout_dict.items():\n",
    "\n",
    "        for stmt_id, stmt_desc in stmt_dict.items():\n",
    "            similarity_ls.append([cout_id, stmt_id, fuzz.partial_ratio(cout_name, stmt_desc)])\n",
    "\n",
    "    sorted_sim = sorted(similarity_ls, key=lambda x: x[-1], reverse=True)\n",
    "\n",
    "    # Simpan pasangan id dengan nilai similarity tertinggi\n",
    "    # dan hapus pasangan id lainnya yang mengandung id tersebut\n",
    "    while(sorted_sim.copy()):\n",
    "        cout_id = sorted_sim[0][0]\n",
    "        stmt_id = sorted_sim[0][1]\n",
    "        match_dict[cout_id] = stmt_id\n",
    "\n",
    "        for data in sorted_sim.copy():\n",
    "            if cout_id==data[0]:\n",
    "                del sorted_sim[sorted_sim.index(data)]\n",
    "\n",
    "        for data in sorted_sim.copy():\n",
    "            if stmt_id==data[1]:\n",
    "                del sorted_sim[sorted_sim.index(data)]\n",
    "                \n",
    "print(len(match_dict))\n",
    "print(f'Time elapsed = {time.time() - start_time} seconds')"
   ]
  },
  {
   "cell_type": "code",
   "execution_count": null,
   "metadata": {},
   "outputs": [],
   "source": [
    "checkout_id = list(match_dict.keys())\n",
    "statement_id = list(match_dict.values())\n",
    "\n",
    "submit = pd.DataFrame({'stmt_id': statement_id, 'ckt_id': checkout_id})\n",
    "submit = submit.sort_values(by='stmt_id')\n",
    "submit"
   ]
  },
  {
   "cell_type": "code",
   "execution_count": null,
   "metadata": {
    "scrolled": true
   },
   "outputs": [],
   "source": [
    "submit['ckt_id'].nunique()"
   ]
  },
  {
   "cell_type": "code",
   "execution_count": null,
   "metadata": {},
   "outputs": [],
   "source": [
    "submit.to_csv('round1_partial_ratio.csv', index=False)\n",
    "print('masukk broo')"
   ]
  },
  {
   "cell_type": "markdown",
   "metadata": {},
   "source": [
    "## Token Set Ratio (0.99994)"
   ]
  },
  {
   "cell_type": "code",
   "execution_count": null,
   "metadata": {
    "scrolled": true
   },
   "outputs": [],
   "source": [
    "checkout_df = checkout.copy()\n",
    "statement_df = statement.copy()\n",
    "statement_df.shape"
   ]
  },
  {
   "cell_type": "code",
   "execution_count": null,
   "metadata": {
    "scrolled": true
   },
   "outputs": [],
   "source": [
    "checkout_df = checkout_df.reset_index(drop=True).set_index('id')\n",
    "\n",
    "statement_df = statement_df.reset_index(drop=True).set_index('id')\n",
    "statement_df.head()"
   ]
  },
  {
   "cell_type": "code",
   "execution_count": null,
   "metadata": {
    "scrolled": true
   },
   "outputs": [],
   "source": [
    "start_time = time.time()\n",
    "\n",
    "# nilai unik dari amount\n",
    "amount_ls = sorted(list(set(statement_df.amount)))\n",
    "match_dict = {}\n",
    "for amt in amount_ls:\n",
    "\n",
    "    # ambil data yang memenuhi nilai amount tertentu dan ubah ke format dictionary\n",
    "    cout_dict = dict(checkout_df[checkout_df['amount']==amt]['buyer_name'])\n",
    "    stmt_dict = dict(statement_df[statement_df['amount']==amt]['desc'])\n",
    "\n",
    "    # Kondisi-1 = nama pembeli ada di deskripsi\n",
    "    for cout_id in cout_dict.copy():\n",
    "\n",
    "        for stmt_id in stmt_dict.copy():\n",
    "            # jika match maka simpan pasangan id nya \n",
    "            # dan hapus datanya dari dictionary\n",
    "            if cout_dict[cout_id] in stmt_dict[stmt_id]:\n",
    "                match_dict[cout_id] = stmt_id\n",
    "                del cout_dict[cout_id]\n",
    "                del stmt_dict[stmt_id]\n",
    "                break\n",
    "\n",
    "    # Kondisi-2 = nama pembeli dengan tidak memperhatikan urutan katanya\n",
    "    for cout_id in cout_dict.copy():\n",
    "\n",
    "        for stmt_id in stmt_dict.copy():\n",
    "            # cek jika semua kata pada nama pembeli ada di deskripsi\n",
    "            cout_word_ls = cout_dict[cout_id].split()\n",
    "            if all(word in stmt_dict[stmt_id] for word in cout_word_ls):\n",
    "                match_dict[cout_id] = stmt_id\n",
    "                del cout_dict[cout_id]\n",
    "                del stmt_dict[stmt_id]\n",
    "                break\n",
    "\n",
    "    # Kondisi-3 = matching algorithm menggunakan fuzzy string searching {ratio, partial_ratio, token_set_ratio}\n",
    "    similarity_ls = []\n",
    "    for cout_id, cout_name in cout_dict.items():\n",
    "\n",
    "        for stmt_id, stmt_desc in stmt_dict.items():\n",
    "            similarity_ls.append([cout_id, stmt_id, fuzz.token_set_ratio(cout_name, stmt_desc)])\n",
    "\n",
    "    sorted_sim = sorted(similarity_ls, key=lambda x: x[-1], reverse=True)\n",
    "\n",
    "    # Simpan pasangan id dengan nilai similarity tertinggi\n",
    "    # dan hapus pasangan id lainnya yang mengandung id tersebut\n",
    "    while(sorted_sim.copy()):\n",
    "        cout_id = sorted_sim[0][0]\n",
    "        stmt_id = sorted_sim[0][1]\n",
    "        match_dict[cout_id] = stmt_id\n",
    "\n",
    "        for data in sorted_sim.copy():\n",
    "            if cout_id==data[0]:\n",
    "                del sorted_sim[sorted_sim.index(data)]\n",
    "\n",
    "        for data in sorted_sim.copy():\n",
    "            if stmt_id==data[1]:\n",
    "                del sorted_sim[sorted_sim.index(data)]\n",
    "                \n",
    "print(len(match_dict))\n",
    "print(f'Time elapsed = {time.time() - start_time} seconds')"
   ]
  },
  {
   "cell_type": "code",
   "execution_count": null,
   "metadata": {},
   "outputs": [],
   "source": [
    "checkout_id = list(match_dict.keys())\n",
    "statement_id = list(match_dict.values())\n",
    "\n",
    "submit = pd.DataFrame({'stmt_id': statement_id, 'ckt_id': checkout_id})\n",
    "submit = submit.sort_values(by='stmt_id')\n",
    "submit"
   ]
  },
  {
   "cell_type": "code",
   "execution_count": null,
   "metadata": {},
   "outputs": [],
   "source": [
    "submit.to_csv('round1_token_set_ratio.csv', index=False)\n",
    "print('masukk broo')"
   ]
  },
  {
   "cell_type": "markdown",
   "metadata": {},
   "source": [
    "## Ratio + Preprocessing (0.99994)"
   ]
  },
  {
   "cell_type": "code",
   "execution_count": null,
   "metadata": {},
   "outputs": [],
   "source": [
    "checkout_df = checkout.copy()\n",
    "statement_df = statement.copy()\n",
    "statement_df.shape"
   ]
  },
  {
   "cell_type": "code",
   "execution_count": null,
   "metadata": {},
   "outputs": [],
   "source": [
    "token_ls = []\n",
    "for desc in statement_df['desc'].values:\n",
    "    token_ls.extend(desc.split())\n",
    "len(token_ls)"
   ]
  },
  {
   "cell_type": "code",
   "execution_count": null,
   "metadata": {
    "scrolled": true
   },
   "outputs": [],
   "source": [
    "token_occur = Counter(token_ls)\n",
    "token_occur.most_common(100)"
   ]
  },
  {
   "cell_type": "code",
   "execution_count": null,
   "metadata": {},
   "outputs": [],
   "source": [
    "# hapus karakter yang tidak penting\n",
    "no_name = re.compile(r'(?<=\\s)(instant|transfer|shopee|to a c|transferto|funds|atransfer|savings)(?=\\s)')\n",
    "longer_space = re.compile(r'\\s{2,}')\n",
    "\n",
    "def preprocess_description(desc):\n",
    "    desc = no_name.sub('', desc)\n",
    "    desc = longer_space.sub(' ', desc)\n",
    "    return desc"
   ]
  },
  {
   "cell_type": "code",
   "execution_count": null,
   "metadata": {
    "scrolled": true
   },
   "outputs": [],
   "source": [
    "checkout_df = checkout_df.reset_index(drop=True).set_index('id')\n",
    "\n",
    "statement_df['desc'] = statement_df['desc'].map(preprocess_description)\n",
    "statement_df = statement_df.reset_index(drop=True).set_index('id')\n",
    "statement_df.head()"
   ]
  },
  {
   "cell_type": "code",
   "execution_count": null,
   "metadata": {
    "scrolled": true
   },
   "outputs": [],
   "source": [
    "start_time = time.time()\n",
    "\n",
    "# nilai unik dari amount\n",
    "amount_ls = sorted(list(set(statement_df.amount)))\n",
    "match_dict = {}\n",
    "for amt in amount_ls:\n",
    "\n",
    "    # ambil data yang memenuhi nilai amount tertentu dan ubah ke format dictionary\n",
    "    cout_dict = dict(checkout_df[checkout_df['amount']==amt]['buyer_name'])\n",
    "    stmt_dict = dict(statement_df[statement_df['amount']==amt]['desc'])\n",
    "\n",
    "    # Kondisi-1 = nama pembeli ada di deskripsi\n",
    "    for cout_id in cout_dict.copy():\n",
    "\n",
    "        for stmt_id in stmt_dict.copy():\n",
    "            # jika match maka simpan pasangan id nya \n",
    "            # dan hapus datanya dari dictionary\n",
    "            if cout_dict[cout_id] in stmt_dict[stmt_id]:\n",
    "                match_dict[cout_id] = stmt_id\n",
    "                del cout_dict[cout_id]\n",
    "                del stmt_dict[stmt_id]\n",
    "                break\n",
    "\n",
    "    # Kondisi-2 = nama pembeli dengan tidak memperhatikan urutan katanya\n",
    "    for cout_id in cout_dict.copy():\n",
    "\n",
    "        for stmt_id in stmt_dict.copy():\n",
    "            # cek jika semua kata pada nama pembeli ada di deskripsi\n",
    "            cout_word_ls = cout_dict[cout_id].split()\n",
    "            if all(word in stmt_dict[stmt_id] for word in cout_word_ls):\n",
    "                match_dict[cout_id] = stmt_id\n",
    "                del cout_dict[cout_id]\n",
    "                del stmt_dict[stmt_id]\n",
    "                break\n",
    "\n",
    "    # Kondisi-3 = matching algorithm menggunakan fuzzy string searching {ratio, partial_ratio, token_set_ratio}\n",
    "    similarity_ls = []\n",
    "    for cout_id, cout_name in cout_dict.items():\n",
    "\n",
    "        for stmt_id, stmt_desc in stmt_dict.items():\n",
    "            similarity_ls.append([cout_id, stmt_id, fuzz.ratio(cout_name, stmt_desc)])\n",
    "\n",
    "    sorted_sim = sorted(similarity_ls, key=lambda x: x[-1], reverse=True)\n",
    "\n",
    "    # Simpan pasangan id dengan nilai similarity tertinggi\n",
    "    # dan hapus pasangan id lainnya yang mengandung id tersebut\n",
    "    while(sorted_sim.copy()):\n",
    "        cout_id = sorted_sim[0][0]\n",
    "        stmt_id = sorted_sim[0][1]\n",
    "        match_dict[cout_id] = stmt_id\n",
    "\n",
    "        for data in sorted_sim.copy():\n",
    "            if cout_id==data[0]:\n",
    "                del sorted_sim[sorted_sim.index(data)]\n",
    "\n",
    "        for data in sorted_sim.copy():\n",
    "            if stmt_id==data[1]:\n",
    "                del sorted_sim[sorted_sim.index(data)]\n",
    "                \n",
    "print(len(match_dict))\n",
    "print(f'Time elapsed = {time.time() - start_time} seconds')"
   ]
  },
  {
   "cell_type": "code",
   "execution_count": null,
   "metadata": {},
   "outputs": [],
   "source": [
    "print(f'Time elapsed = {time.time() - start_time} seconds')\n",
    "\n",
    "checkout_id = list(match_dict.keys())\n",
    "statement_id = list(match_dict.values())\n",
    "\n",
    "submit = pd.DataFrame({'stmt_id': statement_id, 'ckt_id': checkout_id})\n",
    "submit = submit.sort_values(by='stmt_id')\n",
    "submit"
   ]
  },
  {
   "cell_type": "code",
   "execution_count": null,
   "metadata": {},
   "outputs": [],
   "source": [
    "print(len(set(checkout_id)))\n",
    "print(len(set(statement_id)))"
   ]
  },
  {
   "cell_type": "code",
   "execution_count": null,
   "metadata": {},
   "outputs": [],
   "source": [
    "submit.to_csv('round1_ratio_prep.csv', index=False)"
   ]
  },
  {
   "cell_type": "markdown",
   "metadata": {},
   "source": [
    "## Partial Ratio + Preprocessing (0.99982)"
   ]
  },
  {
   "cell_type": "code",
   "execution_count": null,
   "metadata": {},
   "outputs": [],
   "source": [
    "checkout_df = checkout.copy()\n",
    "statement_df = statement.copy()\n",
    "statement_df.shape"
   ]
  },
  {
   "cell_type": "code",
   "execution_count": null,
   "metadata": {},
   "outputs": [],
   "source": [
    "token_ls = []\n",
    "for desc in statement_df['desc'].values:\n",
    "    token_ls.extend(desc.split())\n",
    "len(token_ls)"
   ]
  },
  {
   "cell_type": "code",
   "execution_count": null,
   "metadata": {
    "scrolled": true
   },
   "outputs": [],
   "source": [
    "token_occur = Counter(token_ls)\n",
    "token_occur.most_common(100)"
   ]
  },
  {
   "cell_type": "code",
   "execution_count": null,
   "metadata": {},
   "outputs": [],
   "source": [
    "# hapus karakter yang tidak penting\n",
    "no_name = re.compile(r'(?<=\\s)(instant|transfer|shopee|to a c|transferto|funds|atransfer|savings)(?=\\s)')\n",
    "longer_space = re.compile(r'\\s{2,}')\n",
    "\n",
    "def preprocess_description(desc):\n",
    "    desc = no_name.sub('', desc)\n",
    "    desc = longer_space.sub(' ', desc)\n",
    "    return desc"
   ]
  },
  {
   "cell_type": "code",
   "execution_count": null,
   "metadata": {
    "scrolled": false
   },
   "outputs": [],
   "source": [
    "checkout_df = checkout_df.reset_index(drop=True).set_index('id')\n",
    "\n",
    "statement_df['desc'] = statement_df['desc'].map(preprocess_description)\n",
    "statement_df = statement_df.reset_index(drop=True).set_index('id')\n",
    "statement_df.head()"
   ]
  },
  {
   "cell_type": "code",
   "execution_count": null,
   "metadata": {
    "scrolled": true
   },
   "outputs": [],
   "source": [
    "start_time = time.time()\n",
    "\n",
    "# nilai unik dari amount\n",
    "amount_ls = sorted(list(set(statement_df.amount)))\n",
    "match_dict = {}\n",
    "for amt in amount_ls:\n",
    "\n",
    "    # ambil data yang memenuhi nilai amount tertentu dan ubah ke format dictionary\n",
    "    cout_dict = dict(checkout_df[checkout_df['amount']==amt]['buyer_name'])\n",
    "    stmt_dict = dict(statement_df[statement_df['amount']==amt]['desc'])\n",
    "\n",
    "    # Kondisi-1 = nama pembeli ada di deskripsi\n",
    "    for cout_id in cout_dict.copy():\n",
    "\n",
    "        for stmt_id in stmt_dict.copy():\n",
    "            # jika match maka simpan pasangan id nya \n",
    "            # dan hapus datanya dari dictionary\n",
    "            if cout_dict[cout_id] in stmt_dict[stmt_id]:\n",
    "                match_dict[cout_id] = stmt_id\n",
    "                del cout_dict[cout_id]\n",
    "                del stmt_dict[stmt_id]\n",
    "                break\n",
    "\n",
    "    # Kondisi-2 = nama pembeli dengan tidak memperhatikan urutan katanya\n",
    "    for cout_id in cout_dict.copy():\n",
    "\n",
    "        for stmt_id in stmt_dict.copy():\n",
    "            # cek jika semua kata pada nama pembeli ada di deskripsi\n",
    "            cout_word_ls = cout_dict[cout_id].split()\n",
    "            if all(word in stmt_dict[stmt_id] for word in cout_word_ls):\n",
    "                match_dict[cout_id] = stmt_id\n",
    "                del cout_dict[cout_id]\n",
    "                del stmt_dict[stmt_id]\n",
    "                break\n",
    "\n",
    "    # Kondisi-3 = matching algorithm menggunakan fuzzy string searching {ratio, partial_ratio, token_set_ratio}\n",
    "    similarity_ls = []\n",
    "    for cout_id, cout_name in cout_dict.items():\n",
    "\n",
    "        for stmt_id, stmt_desc in stmt_dict.items():\n",
    "            similarity_ls.append([cout_id, stmt_id, fuzz.partial_ratio(cout_name, stmt_desc)])\n",
    "\n",
    "    sorted_sim = sorted(similarity_ls, key=lambda x: x[-1], reverse=True)\n",
    "\n",
    "    # Simpan pasangan id dengan nilai similarity tertinggi\n",
    "    # dan hapus pasangan id lainnya yang mengandung id tersebut\n",
    "    while(sorted_sim.copy()):\n",
    "        cout_id = sorted_sim[0][0]\n",
    "        stmt_id = sorted_sim[0][1]\n",
    "        match_dict[cout_id] = stmt_id\n",
    "\n",
    "        for data in sorted_sim.copy():\n",
    "            if cout_id==data[0]:\n",
    "                del sorted_sim[sorted_sim.index(data)]\n",
    "\n",
    "        for data in sorted_sim.copy():\n",
    "            if stmt_id==data[1]:\n",
    "                del sorted_sim[sorted_sim.index(data)]\n",
    "                \n",
    "print(len(match_dict))\n",
    "print(f'Time elapsed = {time.time() - start_time} seconds')"
   ]
  },
  {
   "cell_type": "code",
   "execution_count": null,
   "metadata": {},
   "outputs": [],
   "source": [
    "print(f'Time elapsed = {time.time() - start_time} seconds')\n",
    "\n",
    "checkout_id = list(match_dict.keys())\n",
    "statement_id = list(match_dict.values())\n",
    "\n",
    "submit = pd.DataFrame({'stmt_id': statement_id, 'ckt_id': checkout_id})\n",
    "submit = submit.sort_values(by='stmt_id')\n",
    "submit"
   ]
  },
  {
   "cell_type": "code",
   "execution_count": null,
   "metadata": {},
   "outputs": [],
   "source": [
    "print(len(set(checkout_id)))\n",
    "print(len(set(statement_id)))"
   ]
  },
  {
   "cell_type": "code",
   "execution_count": null,
   "metadata": {},
   "outputs": [],
   "source": [
    "submit.to_csv('round1_partial_ratio_prep.csv', index=False)"
   ]
  },
  {
   "cell_type": "markdown",
   "metadata": {},
   "source": [
    "## Token Set Ratio + Preprocessing (0.99994)"
   ]
  },
  {
   "cell_type": "code",
   "execution_count": null,
   "metadata": {},
   "outputs": [],
   "source": [
    "checkout_df = checkout.copy()\n",
    "statement_df = statement.copy()\n",
    "statement_df.shape"
   ]
  },
  {
   "cell_type": "code",
   "execution_count": null,
   "metadata": {},
   "outputs": [],
   "source": [
    "token_ls = []\n",
    "for desc in statement_df['desc'].values:\n",
    "    token_ls.extend(desc.split())\n",
    "len(token_ls)"
   ]
  },
  {
   "cell_type": "code",
   "execution_count": null,
   "metadata": {
    "scrolled": true
   },
   "outputs": [],
   "source": [
    "token_occur = Counter(token_ls)\n",
    "token_occur.most_common(100)"
   ]
  },
  {
   "cell_type": "code",
   "execution_count": null,
   "metadata": {},
   "outputs": [],
   "source": [
    "# hapus karakter yang tidak penting\n",
    "no_name = re.compile(r'(?<=\\s)(instant|transfer|shopee|to a c|transferto|funds|atransfer|savings)(?=\\s)')\n",
    "longer_space = re.compile(r'\\s{2,}')\n",
    "\n",
    "def preprocess_description(desc):\n",
    "    desc = no_name.sub('', desc)\n",
    "    desc = longer_space.sub(' ', desc)\n",
    "    return desc"
   ]
  },
  {
   "cell_type": "code",
   "execution_count": null,
   "metadata": {
    "scrolled": false
   },
   "outputs": [],
   "source": [
    "checkout_df = checkout_df.reset_index(drop=True).set_index('id')\n",
    "\n",
    "statement_df['desc'] = statement_df['desc'].map(preprocess_description)\n",
    "statement_df = statement_df.reset_index(drop=True).set_index('id')\n",
    "statement_df.head()"
   ]
  },
  {
   "cell_type": "code",
   "execution_count": null,
   "metadata": {
    "scrolled": true
   },
   "outputs": [],
   "source": [
    "start_time = time.time()\n",
    "\n",
    "# nilai unik dari amount\n",
    "amount_ls = sorted(list(set(statement_df.amount)))\n",
    "match_dict = {}\n",
    "for amt in amount_ls:\n",
    "\n",
    "    # ambil data yang memenuhi nilai amount tertentu dan ubah ke format dictionary\n",
    "    cout_dict = dict(checkout_df[checkout_df['amount']==amt]['buyer_name'])\n",
    "    stmt_dict = dict(statement_df[statement_df['amount']==amt]['desc'])\n",
    "\n",
    "    # Kondisi-1 = nama pembeli ada di deskripsi\n",
    "    for cout_id in cout_dict.copy():\n",
    "\n",
    "        for stmt_id in stmt_dict.copy():\n",
    "            # jika match maka simpan pasangan id nya \n",
    "            # dan hapus datanya dari dictionary\n",
    "            if cout_dict[cout_id] in stmt_dict[stmt_id]:\n",
    "                match_dict[cout_id] = stmt_id\n",
    "                del cout_dict[cout_id]\n",
    "                del stmt_dict[stmt_id]\n",
    "                break\n",
    "\n",
    "    # Kondisi-2 = nama pembeli dengan tidak memperhatikan urutan katanya\n",
    "    for cout_id in cout_dict.copy():\n",
    "\n",
    "        for stmt_id in stmt_dict.copy():\n",
    "            # cek jika semua kata pada nama pembeli ada di deskripsi\n",
    "            cout_word_ls = cout_dict[cout_id].split()\n",
    "            if all(word in stmt_dict[stmt_id] for word in cout_word_ls):\n",
    "                match_dict[cout_id] = stmt_id\n",
    "                del cout_dict[cout_id]\n",
    "                del stmt_dict[stmt_id]\n",
    "                break\n",
    "\n",
    "    # Kondisi-3 = matching algorithm menggunakan fuzzy string searching {ratio, partial_ratio, token_set_ratio}\n",
    "    similarity_ls = []\n",
    "    for cout_id, cout_name in cout_dict.items():\n",
    "\n",
    "        for stmt_id, stmt_desc in stmt_dict.items():\n",
    "            similarity_ls.append([cout_id, stmt_id, fuzz.token_set_ratio(cout_name, stmt_desc)])\n",
    "\n",
    "    sorted_sim = sorted(similarity_ls, key=lambda x: x[-1], reverse=True)\n",
    "\n",
    "    # Simpan pasangan id dengan nilai similarity tertinggi\n",
    "    # dan hapus pasangan id lainnya yang mengandung id tersebut\n",
    "    while(sorted_sim.copy()):\n",
    "        cout_id = sorted_sim[0][0]\n",
    "        stmt_id = sorted_sim[0][1]\n",
    "        match_dict[cout_id] = stmt_id\n",
    "\n",
    "        for data in sorted_sim.copy():\n",
    "            if cout_id==data[0]:\n",
    "                del sorted_sim[sorted_sim.index(data)]\n",
    "\n",
    "        for data in sorted_sim.copy():\n",
    "            if stmt_id==data[1]:\n",
    "                del sorted_sim[sorted_sim.index(data)]\n",
    "                \n",
    "print(len(match_dict))\n",
    "print(f'Time elapsed = {time.time() - start_time} seconds')"
   ]
  },
  {
   "cell_type": "code",
   "execution_count": null,
   "metadata": {},
   "outputs": [],
   "source": [
    "print(f'Time elapsed = {time.time() - start_time} seconds')\n",
    "\n",
    "checkout_id = list(match_dict.keys())\n",
    "statement_id = list(match_dict.values())\n",
    "\n",
    "submit = pd.DataFrame({'stmt_id': statement_id, 'ckt_id': checkout_id})\n",
    "submit = submit.sort_values(by='stmt_id')\n",
    "submit"
   ]
  },
  {
   "cell_type": "code",
   "execution_count": null,
   "metadata": {},
   "outputs": [],
   "source": [
    "print(len(set(checkout_id)))\n",
    "print(len(set(statement_id)))"
   ]
  },
  {
   "cell_type": "code",
   "execution_count": null,
   "metadata": {},
   "outputs": [],
   "source": [
    "submit.to_csv('round1_token_set_ratio_prep.csv', index=False)"
   ]
  }
 ],
 "metadata": {
  "kernelspec": {
   "display_name": "Python 3",
   "language": "python",
   "name": "python3"
  },
  "language_info": {
   "codemirror_mode": {
    "name": "ipython",
    "version": 3
   },
   "file_extension": ".py",
   "mimetype": "text/x-python",
   "name": "python",
   "nbconvert_exporter": "python",
   "pygments_lexer": "ipython3",
   "version": "3.7.6"
  },
  "toc": {
   "base_numbering": 1,
   "nav_menu": {},
   "number_sections": true,
   "sideBar": true,
   "skip_h1_title": false,
   "title_cell": "Table of Contents",
   "title_sidebar": "Contents",
   "toc_cell": false,
   "toc_position": {},
   "toc_section_display": true,
   "toc_window_display": true
  }
 },
 "nbformat": 4,
 "nbformat_minor": 4
}
